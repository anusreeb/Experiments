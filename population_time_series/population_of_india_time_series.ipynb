{
 "cells": [
  {
   "cell_type": "markdown",
   "id": "48e278e6",
   "metadata": {},
   "source": [
    "I've always been curious about the population growth of India (my home country). I wondered how easy or difficult it would be to model population growth using common time series analyses methods. This is an experiment to see how well different approaches work. "
   ]
  },
  {
   "cell_type": "code",
   "execution_count": 390,
   "id": "a6a780e1",
   "metadata": {},
   "outputs": [],
   "source": [
    "import pandas as pd\n",
    "from pandas import Series\n",
    "import matplotlib\n",
    "import statsmodels.api as sm\n",
    "import numpy as np\n",
    "from math import sqrt\n",
    "import scipy \n",
    "import chardet\n",
    "from matplotlib import pyplot\n",
    "\n",
    "from statsmodels.tsa.arima.model import ARIMA\n",
    "from statsmodels.tsa.ar_model import AutoReg\n",
    "from statsmodels.tools.eval_measures import rmse\n",
    "from statsmodels.tsa.stattools import adfuller\n",
    "from statsmodels.tsa.stattools import kpss\n",
    "from statsmodels.graphics.tsaplots import plot_acf\n",
    "from statsmodels.graphics.tsaplots import plot_pacf\n",
    "from statsmodels.tsa.ar_model import ar_select_order\n",
    "\n",
    "from sklearn.metrics import mean_squared_error\n",
    "from sklearn.linear_model import LinearRegression\n",
    "from sklearn.metrics import r2_score"
   ]
  },
  {
   "cell_type": "markdown",
   "id": "7246b0d7",
   "metadata": {},
   "source": [
    "Getting Some population data from the world bank. We've removed some headers from the original spreadsheet, and saved it with utf encoding to avoid any encoding issues while reading."
   ]
  },
  {
   "cell_type": "code",
   "execution_count": 149,
   "id": "cb55d714",
   "metadata": {},
   "outputs": [
    {
     "data": {
      "text/plain": [
       "{'encoding': 'ascii', 'confidence': 1.0, 'language': ''}"
      ]
     },
     "execution_count": 149,
     "metadata": {},
     "output_type": "execute_result"
    }
   ],
   "source": [
    "file = \"/home/jovyan/work/API_SP.POP.TOTL_DS2_en_csv_v2_3469297.csv\"\n",
    "with open(file, 'rb') as rawdata:\n",
    "    result = chardet.detect(rawdata.read(100000))\n",
    "result"
   ]
  },
  {
   "cell_type": "code",
   "execution_count": 35,
   "id": "6530543a",
   "metadata": {},
   "outputs": [],
   "source": [
    "df = pd.read_csv(file,encoding=result['encoding'])"
   ]
  },
  {
   "cell_type": "code",
   "execution_count": 36,
   "id": "1dab9b30",
   "metadata": {},
   "outputs": [
    {
     "data": {
      "text/html": [
       "<div>\n",
       "<style scoped>\n",
       "    .dataframe tbody tr th:only-of-type {\n",
       "        vertical-align: middle;\n",
       "    }\n",
       "\n",
       "    .dataframe tbody tr th {\n",
       "        vertical-align: top;\n",
       "    }\n",
       "\n",
       "    .dataframe thead th {\n",
       "        text-align: right;\n",
       "    }\n",
       "</style>\n",
       "<table border=\"1\" class=\"dataframe\">\n",
       "  <thead>\n",
       "    <tr style=\"text-align: right;\">\n",
       "      <th></th>\n",
       "      <th>Country Name</th>\n",
       "      <th>Country Code</th>\n",
       "      <th>Indicator Name</th>\n",
       "      <th>Indicator Code</th>\n",
       "      <th>1960</th>\n",
       "      <th>1961</th>\n",
       "      <th>1962</th>\n",
       "      <th>1963</th>\n",
       "      <th>1964</th>\n",
       "      <th>1965</th>\n",
       "      <th>...</th>\n",
       "      <th>2012</th>\n",
       "      <th>2013</th>\n",
       "      <th>2014</th>\n",
       "      <th>2015</th>\n",
       "      <th>2016</th>\n",
       "      <th>2017</th>\n",
       "      <th>2018</th>\n",
       "      <th>2019</th>\n",
       "      <th>2020</th>\n",
       "      <th>Unnamed: 65</th>\n",
       "    </tr>\n",
       "  </thead>\n",
       "  <tbody>\n",
       "    <tr>\n",
       "      <th>0</th>\n",
       "      <td>Aruba</td>\n",
       "      <td>ABW</td>\n",
       "      <td>Population, total</td>\n",
       "      <td>SP.POP.TOTL</td>\n",
       "      <td>54208.0</td>\n",
       "      <td>55434.0</td>\n",
       "      <td>56234.0</td>\n",
       "      <td>56699.0</td>\n",
       "      <td>57029.0</td>\n",
       "      <td>57357.0</td>\n",
       "      <td>...</td>\n",
       "      <td>102565.0</td>\n",
       "      <td>103165.0</td>\n",
       "      <td>103776.0</td>\n",
       "      <td>104339.0</td>\n",
       "      <td>104865.0</td>\n",
       "      <td>105361.0</td>\n",
       "      <td>105846.0</td>\n",
       "      <td>106310.0</td>\n",
       "      <td>106766.0</td>\n",
       "      <td>NaN</td>\n",
       "    </tr>\n",
       "    <tr>\n",
       "      <th>1</th>\n",
       "      <td>Africa Eastern and Southern</td>\n",
       "      <td>AFE</td>\n",
       "      <td>Population, total</td>\n",
       "      <td>SP.POP.TOTL</td>\n",
       "      <td>130836765.0</td>\n",
       "      <td>134159786.0</td>\n",
       "      <td>137614644.0</td>\n",
       "      <td>141202036.0</td>\n",
       "      <td>144920186.0</td>\n",
       "      <td>148769974.0</td>\n",
       "      <td>...</td>\n",
       "      <td>547482863.0</td>\n",
       "      <td>562601578.0</td>\n",
       "      <td>578075373.0</td>\n",
       "      <td>593871847.0</td>\n",
       "      <td>609978946.0</td>\n",
       "      <td>626392880.0</td>\n",
       "      <td>643090131.0</td>\n",
       "      <td>660046272.0</td>\n",
       "      <td>677243299.0</td>\n",
       "      <td>NaN</td>\n",
       "    </tr>\n",
       "    <tr>\n",
       "      <th>2</th>\n",
       "      <td>Afghanistan</td>\n",
       "      <td>AFG</td>\n",
       "      <td>Population, total</td>\n",
       "      <td>SP.POP.TOTL</td>\n",
       "      <td>8996967.0</td>\n",
       "      <td>9169406.0</td>\n",
       "      <td>9351442.0</td>\n",
       "      <td>9543200.0</td>\n",
       "      <td>9744772.0</td>\n",
       "      <td>9956318.0</td>\n",
       "      <td>...</td>\n",
       "      <td>31161378.0</td>\n",
       "      <td>32269592.0</td>\n",
       "      <td>33370804.0</td>\n",
       "      <td>34413603.0</td>\n",
       "      <td>35383028.0</td>\n",
       "      <td>36296111.0</td>\n",
       "      <td>37171922.0</td>\n",
       "      <td>38041757.0</td>\n",
       "      <td>38928341.0</td>\n",
       "      <td>NaN</td>\n",
       "    </tr>\n",
       "    <tr>\n",
       "      <th>3</th>\n",
       "      <td>Africa Western and Central</td>\n",
       "      <td>AFW</td>\n",
       "      <td>Population, total</td>\n",
       "      <td>SP.POP.TOTL</td>\n",
       "      <td>96396419.0</td>\n",
       "      <td>98407221.0</td>\n",
       "      <td>100506960.0</td>\n",
       "      <td>102691339.0</td>\n",
       "      <td>104953470.0</td>\n",
       "      <td>107289875.0</td>\n",
       "      <td>...</td>\n",
       "      <td>370243017.0</td>\n",
       "      <td>380437896.0</td>\n",
       "      <td>390882979.0</td>\n",
       "      <td>401586651.0</td>\n",
       "      <td>412551299.0</td>\n",
       "      <td>423769930.0</td>\n",
       "      <td>435229381.0</td>\n",
       "      <td>446911598.0</td>\n",
       "      <td>458803476.0</td>\n",
       "      <td>NaN</td>\n",
       "    </tr>\n",
       "    <tr>\n",
       "      <th>4</th>\n",
       "      <td>Angola</td>\n",
       "      <td>AGO</td>\n",
       "      <td>Population, total</td>\n",
       "      <td>SP.POP.TOTL</td>\n",
       "      <td>5454938.0</td>\n",
       "      <td>5531451.0</td>\n",
       "      <td>5608499.0</td>\n",
       "      <td>5679409.0</td>\n",
       "      <td>5734995.0</td>\n",
       "      <td>5770573.0</td>\n",
       "      <td>...</td>\n",
       "      <td>25107925.0</td>\n",
       "      <td>26015786.0</td>\n",
       "      <td>26941773.0</td>\n",
       "      <td>27884380.0</td>\n",
       "      <td>28842482.0</td>\n",
       "      <td>29816769.0</td>\n",
       "      <td>30809787.0</td>\n",
       "      <td>31825299.0</td>\n",
       "      <td>32866268.0</td>\n",
       "      <td>NaN</td>\n",
       "    </tr>\n",
       "    <tr>\n",
       "      <th>5</th>\n",
       "      <td>Albania</td>\n",
       "      <td>ALB</td>\n",
       "      <td>Population, total</td>\n",
       "      <td>SP.POP.TOTL</td>\n",
       "      <td>1608800.0</td>\n",
       "      <td>1659800.0</td>\n",
       "      <td>1711319.0</td>\n",
       "      <td>1762621.0</td>\n",
       "      <td>1814135.0</td>\n",
       "      <td>1864791.0</td>\n",
       "      <td>...</td>\n",
       "      <td>2900401.0</td>\n",
       "      <td>2895092.0</td>\n",
       "      <td>2889104.0</td>\n",
       "      <td>2880703.0</td>\n",
       "      <td>2876101.0</td>\n",
       "      <td>2873457.0</td>\n",
       "      <td>2866376.0</td>\n",
       "      <td>2854191.0</td>\n",
       "      <td>2837743.0</td>\n",
       "      <td>NaN</td>\n",
       "    </tr>\n",
       "    <tr>\n",
       "      <th>6</th>\n",
       "      <td>Andorra</td>\n",
       "      <td>AND</td>\n",
       "      <td>Population, total</td>\n",
       "      <td>SP.POP.TOTL</td>\n",
       "      <td>13410.0</td>\n",
       "      <td>14378.0</td>\n",
       "      <td>15379.0</td>\n",
       "      <td>16407.0</td>\n",
       "      <td>17466.0</td>\n",
       "      <td>18542.0</td>\n",
       "      <td>...</td>\n",
       "      <td>82427.0</td>\n",
       "      <td>80770.0</td>\n",
       "      <td>79213.0</td>\n",
       "      <td>77993.0</td>\n",
       "      <td>77295.0</td>\n",
       "      <td>76997.0</td>\n",
       "      <td>77008.0</td>\n",
       "      <td>77146.0</td>\n",
       "      <td>77265.0</td>\n",
       "      <td>NaN</td>\n",
       "    </tr>\n",
       "    <tr>\n",
       "      <th>7</th>\n",
       "      <td>Arab World</td>\n",
       "      <td>ARB</td>\n",
       "      <td>Population, total</td>\n",
       "      <td>SP.POP.TOTL</td>\n",
       "      <td>92197715.0</td>\n",
       "      <td>94724540.0</td>\n",
       "      <td>97334438.0</td>\n",
       "      <td>100034191.0</td>\n",
       "      <td>102832792.0</td>\n",
       "      <td>105736428.0</td>\n",
       "      <td>...</td>\n",
       "      <td>371437642.0</td>\n",
       "      <td>379696477.0</td>\n",
       "      <td>387899835.0</td>\n",
       "      <td>396028301.0</td>\n",
       "      <td>404042892.0</td>\n",
       "      <td>411942825.0</td>\n",
       "      <td>419851989.0</td>\n",
       "      <td>427870273.0</td>\n",
       "      <td>436080728.0</td>\n",
       "      <td>NaN</td>\n",
       "    </tr>\n",
       "    <tr>\n",
       "      <th>8</th>\n",
       "      <td>United Arab Emirates</td>\n",
       "      <td>ARE</td>\n",
       "      <td>Population, total</td>\n",
       "      <td>SP.POP.TOTL</td>\n",
       "      <td>92417.0</td>\n",
       "      <td>100801.0</td>\n",
       "      <td>112112.0</td>\n",
       "      <td>125130.0</td>\n",
       "      <td>138049.0</td>\n",
       "      <td>149855.0</td>\n",
       "      <td>...</td>\n",
       "      <td>9141598.0</td>\n",
       "      <td>9197908.0</td>\n",
       "      <td>9214182.0</td>\n",
       "      <td>9262896.0</td>\n",
       "      <td>9360975.0</td>\n",
       "      <td>9487206.0</td>\n",
       "      <td>9630966.0</td>\n",
       "      <td>9770526.0</td>\n",
       "      <td>9890400.0</td>\n",
       "      <td>NaN</td>\n",
       "    </tr>\n",
       "    <tr>\n",
       "      <th>9</th>\n",
       "      <td>Argentina</td>\n",
       "      <td>ARG</td>\n",
       "      <td>Population, total</td>\n",
       "      <td>SP.POP.TOTL</td>\n",
       "      <td>20481781.0</td>\n",
       "      <td>20817270.0</td>\n",
       "      <td>21153042.0</td>\n",
       "      <td>21488916.0</td>\n",
       "      <td>21824427.0</td>\n",
       "      <td>22159644.0</td>\n",
       "      <td>...</td>\n",
       "      <td>41733271.0</td>\n",
       "      <td>42202935.0</td>\n",
       "      <td>42669500.0</td>\n",
       "      <td>43131966.0</td>\n",
       "      <td>43590368.0</td>\n",
       "      <td>44044811.0</td>\n",
       "      <td>44494502.0</td>\n",
       "      <td>44938712.0</td>\n",
       "      <td>45376763.0</td>\n",
       "      <td>NaN</td>\n",
       "    </tr>\n",
       "  </tbody>\n",
       "</table>\n",
       "<p>10 rows × 66 columns</p>\n",
       "</div>"
      ],
      "text/plain": [
       "                  Country Name Country Code     Indicator Name Indicator Code  \\\n",
       "0                        Aruba          ABW  Population, total    SP.POP.TOTL   \n",
       "1  Africa Eastern and Southern          AFE  Population, total    SP.POP.TOTL   \n",
       "2                  Afghanistan          AFG  Population, total    SP.POP.TOTL   \n",
       "3   Africa Western and Central          AFW  Population, total    SP.POP.TOTL   \n",
       "4                       Angola          AGO  Population, total    SP.POP.TOTL   \n",
       "5                      Albania          ALB  Population, total    SP.POP.TOTL   \n",
       "6                      Andorra          AND  Population, total    SP.POP.TOTL   \n",
       "7                   Arab World          ARB  Population, total    SP.POP.TOTL   \n",
       "8         United Arab Emirates          ARE  Population, total    SP.POP.TOTL   \n",
       "9                    Argentina          ARG  Population, total    SP.POP.TOTL   \n",
       "\n",
       "          1960         1961         1962         1963         1964  \\\n",
       "0      54208.0      55434.0      56234.0      56699.0      57029.0   \n",
       "1  130836765.0  134159786.0  137614644.0  141202036.0  144920186.0   \n",
       "2    8996967.0    9169406.0    9351442.0    9543200.0    9744772.0   \n",
       "3   96396419.0   98407221.0  100506960.0  102691339.0  104953470.0   \n",
       "4    5454938.0    5531451.0    5608499.0    5679409.0    5734995.0   \n",
       "5    1608800.0    1659800.0    1711319.0    1762621.0    1814135.0   \n",
       "6      13410.0      14378.0      15379.0      16407.0      17466.0   \n",
       "7   92197715.0   94724540.0   97334438.0  100034191.0  102832792.0   \n",
       "8      92417.0     100801.0     112112.0     125130.0     138049.0   \n",
       "9   20481781.0   20817270.0   21153042.0   21488916.0   21824427.0   \n",
       "\n",
       "          1965  ...         2012         2013         2014         2015  \\\n",
       "0      57357.0  ...     102565.0     103165.0     103776.0     104339.0   \n",
       "1  148769974.0  ...  547482863.0  562601578.0  578075373.0  593871847.0   \n",
       "2    9956318.0  ...   31161378.0   32269592.0   33370804.0   34413603.0   \n",
       "3  107289875.0  ...  370243017.0  380437896.0  390882979.0  401586651.0   \n",
       "4    5770573.0  ...   25107925.0   26015786.0   26941773.0   27884380.0   \n",
       "5    1864791.0  ...    2900401.0    2895092.0    2889104.0    2880703.0   \n",
       "6      18542.0  ...      82427.0      80770.0      79213.0      77993.0   \n",
       "7  105736428.0  ...  371437642.0  379696477.0  387899835.0  396028301.0   \n",
       "8     149855.0  ...    9141598.0    9197908.0    9214182.0    9262896.0   \n",
       "9   22159644.0  ...   41733271.0   42202935.0   42669500.0   43131966.0   \n",
       "\n",
       "          2016         2017         2018         2019         2020  \\\n",
       "0     104865.0     105361.0     105846.0     106310.0     106766.0   \n",
       "1  609978946.0  626392880.0  643090131.0  660046272.0  677243299.0   \n",
       "2   35383028.0   36296111.0   37171922.0   38041757.0   38928341.0   \n",
       "3  412551299.0  423769930.0  435229381.0  446911598.0  458803476.0   \n",
       "4   28842482.0   29816769.0   30809787.0   31825299.0   32866268.0   \n",
       "5    2876101.0    2873457.0    2866376.0    2854191.0    2837743.0   \n",
       "6      77295.0      76997.0      77008.0      77146.0      77265.0   \n",
       "7  404042892.0  411942825.0  419851989.0  427870273.0  436080728.0   \n",
       "8    9360975.0    9487206.0    9630966.0    9770526.0    9890400.0   \n",
       "9   43590368.0   44044811.0   44494502.0   44938712.0   45376763.0   \n",
       "\n",
       "   Unnamed: 65  \n",
       "0          NaN  \n",
       "1          NaN  \n",
       "2          NaN  \n",
       "3          NaN  \n",
       "4          NaN  \n",
       "5          NaN  \n",
       "6          NaN  \n",
       "7          NaN  \n",
       "8          NaN  \n",
       "9          NaN  \n",
       "\n",
       "[10 rows x 66 columns]"
      ]
     },
     "execution_count": 36,
     "metadata": {},
     "output_type": "execute_result"
    }
   ],
   "source": [
    "df.head(10)"
   ]
  },
  {
   "cell_type": "code",
   "execution_count": 99,
   "id": "9c974362",
   "metadata": {},
   "outputs": [
    {
     "data": {
      "text/html": [
       "<div>\n",
       "<style scoped>\n",
       "    .dataframe tbody tr th:only-of-type {\n",
       "        vertical-align: middle;\n",
       "    }\n",
       "\n",
       "    .dataframe tbody tr th {\n",
       "        vertical-align: top;\n",
       "    }\n",
       "\n",
       "    .dataframe thead th {\n",
       "        text-align: right;\n",
       "    }\n",
       "</style>\n",
       "<table border=\"1\" class=\"dataframe\">\n",
       "  <thead>\n",
       "    <tr style=\"text-align: right;\">\n",
       "      <th></th>\n",
       "      <th>Country Name</th>\n",
       "      <th>Country Code</th>\n",
       "      <th>Indicator Name</th>\n",
       "      <th>Indicator Code</th>\n",
       "      <th>1960</th>\n",
       "      <th>1961</th>\n",
       "      <th>1962</th>\n",
       "      <th>1963</th>\n",
       "      <th>1964</th>\n",
       "      <th>1965</th>\n",
       "      <th>...</th>\n",
       "      <th>2012</th>\n",
       "      <th>2013</th>\n",
       "      <th>2014</th>\n",
       "      <th>2015</th>\n",
       "      <th>2016</th>\n",
       "      <th>2017</th>\n",
       "      <th>2018</th>\n",
       "      <th>2019</th>\n",
       "      <th>2020</th>\n",
       "      <th>Unnamed: 65</th>\n",
       "    </tr>\n",
       "  </thead>\n",
       "  <tbody>\n",
       "    <tr>\n",
       "      <th>109</th>\n",
       "      <td>India</td>\n",
       "      <td>IND</td>\n",
       "      <td>Population, total</td>\n",
       "      <td>SP.POP.TOTL</td>\n",
       "      <td>450547675.0</td>\n",
       "      <td>459642166.0</td>\n",
       "      <td>469077191.0</td>\n",
       "      <td>478825602.0</td>\n",
       "      <td>488848139.0</td>\n",
       "      <td>499123328.0</td>\n",
       "      <td>...</td>\n",
       "      <td>1.265780e+09</td>\n",
       "      <td>1.280842e+09</td>\n",
       "      <td>1.295601e+09</td>\n",
       "      <td>1.310152e+09</td>\n",
       "      <td>1.324517e+09</td>\n",
       "      <td>1.338677e+09</td>\n",
       "      <td>1.352642e+09</td>\n",
       "      <td>1.366418e+09</td>\n",
       "      <td>1.380004e+09</td>\n",
       "      <td>NaN</td>\n",
       "    </tr>\n",
       "  </tbody>\n",
       "</table>\n",
       "<p>1 rows × 66 columns</p>\n",
       "</div>"
      ],
      "text/plain": [
       "    Country Name Country Code     Indicator Name Indicator Code         1960  \\\n",
       "109        India          IND  Population, total    SP.POP.TOTL  450547675.0   \n",
       "\n",
       "            1961         1962         1963         1964         1965  ...  \\\n",
       "109  459642166.0  469077191.0  478825602.0  488848139.0  499123328.0  ...   \n",
       "\n",
       "             2012          2013          2014          2015          2016  \\\n",
       "109  1.265780e+09  1.280842e+09  1.295601e+09  1.310152e+09  1.324517e+09   \n",
       "\n",
       "             2017          2018          2019          2020  Unnamed: 65  \n",
       "109  1.338677e+09  1.352642e+09  1.366418e+09  1.380004e+09          NaN  \n",
       "\n",
       "[1 rows x 66 columns]"
      ]
     },
     "execution_count": 99,
     "metadata": {},
     "output_type": "execute_result"
    }
   ],
   "source": [
    "india = df[df['Country Name']=='India']\n",
    "india"
   ]
  },
  {
   "cell_type": "code",
   "execution_count": 252,
   "id": "3d9bb821",
   "metadata": {},
   "outputs": [],
   "source": [
    "it = india.transpose()\n",
    "it = it.drop(['Country Name','Country Code','Indicator Name','Indicator Code'])\n",
    "it = it.reset_index()"
   ]
  },
  {
   "cell_type": "code",
   "execution_count": 253,
   "id": "354d55c8",
   "metadata": {},
   "outputs": [],
   "source": [
    "it = it.rename(columns={'index':'year',it.columns[1]:'population'})\n",
    "it = it.dropna()"
   ]
  },
  {
   "cell_type": "code",
   "execution_count": 294,
   "id": "b0fa6b38",
   "metadata": {},
   "outputs": [
    {
     "data": {
      "text/plain": [
       "<AxesSubplot:xlabel='year'>"
      ]
     },
     "execution_count": 294,
     "metadata": {},
     "output_type": "execute_result"
    },
    {
     "data": {
      "image/png": "[encoded data removed]",
      "text/plain": [
       "<Figure size 936x432 with 1 Axes>"
      ]
     },
     "metadata": {
      "needs_background": "light"
     },
     "output_type": "display_data"
    }
   ],
   "source": [
    "it.plot(kind='bar',x='year',y='population',figsize=(13,6))"
   ]
  },
  {
   "cell_type": "markdown",
   "id": "a89656dd",
   "metadata": {},
   "source": [
    "<h3> Using Linear Regression </h3>\n",
    "\n",
    "This is a naive solution that attemtps to learn a relationship between population and year and use that regression line to predict population at a later time. "
   ]
  },
  {
   "cell_type": "code",
   "execution_count": 345,
   "id": "2dddc256",
   "metadata": {},
   "outputs": [
    {
     "data": {
      "text/plain": [
       "(array([[1295600768.0],\n",
       "        [1310152392.0],\n",
       "        [1324517250.0],\n",
       "        [1338676779.0],\n",
       "        [1352642283.0],\n",
       "        [1366417756.0],\n",
       "        [1380004385.0]], dtype=object),\n",
       " array([[1.28140066e+09],\n",
       "        [1.29779689e+09],\n",
       "        [1.31419312e+09],\n",
       "        [1.33058934e+09],\n",
       "        [1.34698557e+09],\n",
       "        [1.36338180e+09],\n",
       "        [1.37977803e+09]]))"
      ]
     },
     "execution_count": 345,
     "metadata": {},
     "output_type": "execute_result"
    }
   ],
   "source": [
    "#Getting X and Y into 2D array shape as required by linear regression \n",
    "X = it['year'].values.reshape(-1,1)\n",
    "Y = it['population'].values.reshape(-1,1)\n",
    "#splitting into train and test\n",
    "size = int(len(X) * 0.9)\n",
    "trainX, testX = X[0:size], X[size:len(X)]\n",
    "trainY, testY = Y[0:size], Y[size:len(Y)]\n",
    "#creating the model based on 54 years of data\n",
    "model = LinearRegression().fit(trainX,trainY)\n",
    "Y_Pred = model.predict(testX)\n",
    "testY,Y_Pred"
   ]
  },
  {
   "cell_type": "code",
   "execution_count": 369,
   "id": "fc8b8183",
   "metadata": {},
   "outputs": [
    {
     "name": "stdout",
     "output_type": "stream",
     "text": [
      "Test RMSE: 9004463.968\n"
     ]
    }
   ],
   "source": [
    "#calculating RMSE\n",
    "rm = sqrt(mean_squared_error(testY, Y_Pred))\n",
    "print('Test RMSE: %.3f' % rm)"
   ]
  },
  {
   "cell_type": "code",
   "execution_count": 373,
   "id": "13af9c90",
   "metadata": {},
   "outputs": [
    {
     "name": "stdout",
     "output_type": "stream",
     "text": [
      "R2 score 0.898\n"
     ]
    }
   ],
   "source": [
    "#calculating goodness of fit\n",
    "r2 = r2_score(testY,Y_Pred)\n",
    "print('R2 score %.3f'%r2)"
   ]
  },
  {
   "cell_type": "code",
   "execution_count": 357,
   "id": "c6f26d7b",
   "metadata": {},
   "outputs": [
    {
     "data": {
      "image/png": "[encoded data removed]",
      "text/plain": [
       "<Figure size 432x288 with 1 Axes>"
      ]
     },
     "metadata": {
      "needs_background": "light"
     },
     "output_type": "display_data"
    }
   ],
   "source": [
    "#Predicted vs actual\n",
    "pyplot.plot(testY)\n",
    "pyplot.plot( Y_Pred, color='red')\n",
    "pyplot.show()"
   ]
  },
  {
   "cell_type": "markdown",
   "id": "19339519",
   "metadata": {},
   "source": [
    "We can probably use time series methods to get better accuracy\n",
    "\n",
    "<h3> Trying out AR </h3>\n",
    "It's clear from looking at this annual population data that there's no seasonality, but there's an obvious trend. We can probably use a very simple auto regression process to predict this. \n",
    "\n",
    "We can look at an auto regressive model as a baseline, and if there's any evidence that this is a moving average process, then we can try an ARMA process as well. "
   ]
  },
  {
   "cell_type": "markdown",
   "id": "a4f3dec2",
   "metadata": {},
   "source": [
    "AD Fuller Test for Stationarity: \n",
    "\n",
    "1. In this test the null hypothesis is that the series is not stationary and there is a unit root that causes the variance to not be constant over time \n",
    "1. The alternative hypothesis is that the series is stationary \n",
    "\n",
    "If the p-value is small then we can reject the null hypothesis and conclude that the series is stationary "
   ]
  },
  {
   "cell_type": "code",
   "execution_count": 145,
   "id": "afe6423d",
   "metadata": {},
   "outputs": [],
   "source": [
    "def adf_test(timeseries):\n",
    "    \"\"\"\n",
    "    Code sample taken from \n",
    "    https://www.statsmodels.org/dev/examples/notebooks/generated/stationarity_detrending_adf_kpss.html\n",
    "    \n",
    "    args:\n",
    "    \n",
    "    timeseries: the input time series\n",
    "    \n",
    "    This function formats the output of the ADF test for stationarity \n",
    "    \"\"\"\n",
    "    print(\"Results of Dickey-Fuller Test:\")\n",
    "    dftest = adfuller(timeseries, autolag=\"AIC\")\n",
    "    dfoutput = pd.Series(\n",
    "        dftest[0:4],\n",
    "        index=[\n",
    "            \"Test Statistic\",\n",
    "            \"p-value\",\n",
    "            \"#Lags Used\",\n",
    "            \"Number of Observations Used\",\n",
    "        ],\n",
    "    )\n",
    "    for key, value in dftest[4].items():\n",
    "        dfoutput[\"Critical Value (%s)\" % key] = value\n",
    "    print(dfoutput)"
   ]
  },
  {
   "cell_type": "code",
   "execution_count": 151,
   "id": "4835b80d",
   "metadata": {},
   "outputs": [],
   "source": [
    "def kpss_test(timeseries):\n",
    "    \"\"\"\n",
    "    Code sample taken from \n",
    "    https://www.statsmodels.org/dev/examples/notebooks/generated/stationarity_detrending_adf_kpss.html\n",
    "    \n",
    "    args:\n",
    "    \n",
    "    timeseries: the input time series\n",
    "    \n",
    "    This function formats the output of the KPSS test for stationarity \n",
    "    \"\"\"\n",
    "    print(\"Results of KPSS Test:\")\n",
    "    kpsstest = kpss(timeseries, regression=\"c\", nlags=\"auto\")\n",
    "    kpss_output = pd.Series(\n",
    "        kpsstest[0:3], index=[\"Test Statistic\", \"p-value\", \"Lags Used\"]\n",
    "    )\n",
    "    for key, value in kpsstest[3].items():\n",
    "        kpss_output[\"Critical Value (%s)\" % key] = value\n",
    "    print(kpss_output)"
   ]
  },
  {
   "cell_type": "code",
   "execution_count": 146,
   "id": "41dda512",
   "metadata": {},
   "outputs": [
    {
     "name": "stdout",
     "output_type": "stream",
     "text": [
      "Results of Dickey-Fuller Test:\n",
      "Test Statistic                 -1.043953\n",
      "p-value                         0.736898\n",
      "#Lags Used                      9.000000\n",
      "Number of Observations Used    51.000000\n",
      "Critical Value (1%)            -3.565624\n",
      "Critical Value (5%)            -2.920142\n",
      "Critical Value (10%)           -2.598015\n",
      "dtype: float64\n"
     ]
    }
   ],
   "source": [
    "adf_test(it['population'])"
   ]
  },
  {
   "cell_type": "markdown",
   "id": "f193c6a8",
   "metadata": {},
   "source": [
    "Since the p-value is 0.7 (and in common practice we want p to be less than 0.05 so we can get a significance level of 95%) we cannot reject the null hypothesis, and according to this test, the series isn't stationary. \n",
    "\n",
    "We would like to run the KPSS test just to be sure. In the KPSS test:\n",
    "\n",
    "1. The null hypothesis is that the series is stationary \n",
    "1. The alternative hypothesis is that there is a unit root and the series is not stationary. "
   ]
  },
  {
   "cell_type": "code",
   "execution_count": 152,
   "id": "c4077e4d",
   "metadata": {},
   "outputs": [
    {
     "name": "stdout",
     "output_type": "stream",
     "text": [
      "Results of KPSS Test:\n",
      "Test Statistic           1.119649\n",
      "p-value                  0.010000\n",
      "Lags Used                5.000000\n",
      "Critical Value (10%)     0.347000\n",
      "Critical Value (5%)      0.463000\n",
      "Critical Value (2.5%)    0.574000\n",
      "Critical Value (1%)      0.739000\n",
      "dtype: float64\n"
     ]
    },
    {
     "name": "stderr",
     "output_type": "stream",
     "text": [
      "/opt/conda/lib/python3.9/site-packages/statsmodels/tsa/stattools.py:2011: InterpolationWarning: The test statistic is outside of the range of p-values available in the\n",
      "look-up table. The actual p-value is smaller than the p-value returned.\n",
      "\n",
      "  warnings.warn(\n"
     ]
    }
   ],
   "source": [
    "kpss_test(it['population'])"
   ]
  },
  {
   "cell_type": "markdown",
   "id": "12892a75",
   "metadata": {},
   "source": [
    "The p-value in the KPSS test is less than 0.05. This means we can reject the null hypothesis and hence it is confirmed that the series is in fact not stationary. \n",
    "\n",
    "Let's look at the autocorrelation and partial autocorrelation plots to see what parameters to use for the AR and MA components of the time series analyses. "
   ]
  },
  {
   "cell_type": "code",
   "execution_count": 181,
   "id": "30332506",
   "metadata": {},
   "outputs": [
    {
     "data": {
      "image/png": "[encoded data removed]",
      "text/plain": [
       "<Figure size 720x504 with 1 Axes>"
      ]
     },
     "metadata": {
      "needs_background": "light"
     },
     "output_type": "display_data"
    }
   ],
   "source": [
    "with matplotlib.rc_context():\n",
    "    matplotlib.rc(\"figure\", figsize=(10,7))\n",
    "    plot_acf(it['population'])\n",
    "pyplot.show()"
   ]
  },
  {
   "cell_type": "code",
   "execution_count": 183,
   "id": "b176f6f8",
   "metadata": {},
   "outputs": [
    {
     "name": "stderr",
     "output_type": "stream",
     "text": [
      "/opt/conda/lib/python3.9/site-packages/statsmodels/graphics/tsaplots.py:348: FutureWarning: The default method 'yw' can produce PACF values outside of the [-1,1] interval. After 0.13, the default will change tounadjusted Yule-Walker ('ywm'). You can use this method now by setting method='ywm'.\n",
      "  warnings.warn(\n"
     ]
    },
    {
     "data": {
      "image/png": "[encoded data removed]",
      "text/plain": [
       "<Figure size 720x504 with 1 Axes>"
      ]
     },
     "metadata": {
      "needs_background": "light"
     },
     "output_type": "display_data"
    }
   ],
   "source": [
    "with matplotlib.rc_context():\n",
    "    matplotlib.rc(\"figure\", figsize=(10,7))\n",
    "    plot_pacf(it['population'],lags=5)\n",
    "pyplot.show()"
   ]
  },
  {
   "cell_type": "markdown",
   "id": "140ff7de",
   "metadata": {},
   "source": [
    "From the pacf plot we can tell that there is only 1 significant lag at t=1. We are trying a simple auto regressive model with lag=1 (based on pacf) "
   ]
  },
  {
   "cell_type": "code",
   "execution_count": 391,
   "id": "9a7099c8",
   "metadata": {},
   "outputs": [],
   "source": [
    "x = it['population']\n",
    "size = int(len(x) * 0.9)\n",
    "train,test = x[0:size], x[size:len(x)]\n",
    "train = train.to_numpy(dtype='float')\n",
    "train = [i for i in train]\n",
    "test = test.to_numpy(dtype='float')"
   ]
  },
  {
   "cell_type": "code",
   "execution_count": 411,
   "id": "9fc9398a",
   "metadata": {},
   "outputs": [
    {
     "data": {
      "text/plain": [
       "[1, 2, 3, 4, 5]"
      ]
     },
     "execution_count": 411,
     "metadata": {},
     "output_type": "execute_result"
    }
   ],
   "source": [
    "#choosing the optimal order with bic\n",
    "mod = ar_select_order(train, maxlag=17,ic='bic')\n",
    "mod.ar_lags"
   ]
  },
  {
   "cell_type": "code",
   "execution_count": 412,
   "id": "f50dcc38",
   "metadata": {},
   "outputs": [],
   "source": [
    "model = ar_model = AutoReg(train, lags=5).fit()\n",
    "pred = ar_model.predict(start=len(train), end=len(x)-1, dynamic=False)"
   ]
  },
  {
   "cell_type": "code",
   "execution_count": 413,
   "id": "bd4b477c",
   "metadata": {},
   "outputs": [
    {
     "data": {
      "text/html": [
       "<table class=\"simpletable\">\n",
       "<caption>AutoReg Model Results</caption>\n",
       "<tr>\n",
       "  <th>Dep. Variable:</th>         <td>y</td>        <th>  No. Observations:  </th>    <td>54</td>    \n",
       "</tr>\n",
       "<tr>\n",
       "  <th>Model:</th>            <td>AutoReg(5)</td>    <th>  Log Likelihood     </th> <td>-549.009</td> \n",
       "</tr>\n",
       "<tr>\n",
       "  <th>Method:</th>         <td>Conditional MLE</td> <th>  S.D. of innovations</th> <td>17770.980</td>\n",
       "</tr>\n",
       "<tr>\n",
       "  <th>Date:</th>          <td>Fri, 24 Dec 2021</td> <th>  AIC                </th> <td>1112.018</td> \n",
       "</tr>\n",
       "<tr>\n",
       "  <th>Time:</th>              <td>18:15:48</td>     <th>  BIC                </th> <td>1125.260</td> \n",
       "</tr>\n",
       "<tr>\n",
       "  <th>Sample:</th>                <td>5</td>        <th>  HQIC               </th> <td>1117.042</td> \n",
       "</tr>\n",
       "<tr>\n",
       "  <th></th>                      <td>54</td>        <th>                     </th>     <td> </td>    \n",
       "</tr>\n",
       "</table>\n",
       "<table class=\"simpletable\">\n",
       "<tr>\n",
       "    <td></td>       <th>coef</th>     <th>std err</th>      <th>z</th>      <th>P>|z|</th>  <th>[0.025</th>    <th>0.975]</th>  \n",
       "</tr>\n",
       "<tr>\n",
       "  <th>const</th> <td>  1.32e+05</td> <td> 3.36e+04</td> <td>    3.933</td> <td> 0.000</td> <td> 6.62e+04</td> <td> 1.98e+05</td>\n",
       "</tr>\n",
       "<tr>\n",
       "  <th>y.L1</th>  <td>    4.1027</td> <td>    0.122</td> <td>   33.530</td> <td> 0.000</td> <td>    3.863</td> <td>    4.343</td>\n",
       "</tr>\n",
       "<tr>\n",
       "  <th>y.L2</th>  <td>   -6.9431</td> <td>    0.455</td> <td>  -15.270</td> <td> 0.000</td> <td>   -7.834</td> <td>   -6.052</td>\n",
       "</tr>\n",
       "<tr>\n",
       "  <th>y.L3</th>  <td>    6.0615</td> <td>    0.672</td> <td>    9.020</td> <td> 0.000</td> <td>    4.744</td> <td>    7.379</td>\n",
       "</tr>\n",
       "<tr>\n",
       "  <th>y.L4</th>  <td>   -2.7022</td> <td>    0.470</td> <td>   -5.746</td> <td> 0.000</td> <td>   -3.624</td> <td>   -1.780</td>\n",
       "</tr>\n",
       "<tr>\n",
       "  <th>y.L5</th>  <td>    0.4809</td> <td>    0.131</td> <td>    3.677</td> <td> 0.000</td> <td>    0.225</td> <td>    0.737</td>\n",
       "</tr>\n",
       "</table>\n",
       "<table class=\"simpletable\">\n",
       "<caption>Roots</caption>\n",
       "<tr>\n",
       "    <td></td>   <th>            Real</th>  <th>         Imaginary</th> <th>         Modulus</th>  <th>        Frequency</th>\n",
       "</tr>\n",
       "<tr>\n",
       "  <th>AR.1</th> <td>           0.8685</td> <td>          -0.6003j</td> <td>           1.0558</td> <td>          -0.0962</td>\n",
       "</tr>\n",
       "<tr>\n",
       "  <th>AR.2</th> <td>           0.8685</td> <td>          +0.6003j</td> <td>           1.0558</td> <td>           0.0962</td>\n",
       "</tr>\n",
       "<tr>\n",
       "  <th>AR.3</th> <td>           0.9896</td> <td>          -0.0328j</td> <td>           0.9901</td> <td>          -0.0053</td>\n",
       "</tr>\n",
       "<tr>\n",
       "  <th>AR.4</th> <td>           0.9896</td> <td>          +0.0328j</td> <td>           0.9901</td> <td>           0.0053</td>\n",
       "</tr>\n",
       "<tr>\n",
       "  <th>AR.5</th> <td>           1.9029</td> <td>          -0.0000j</td> <td>           1.9029</td> <td>          -0.0000</td>\n",
       "</tr>\n",
       "</table>"
      ],
      "text/plain": [
       "<class 'statsmodels.iolib.summary.Summary'>\n",
       "\"\"\"\n",
       "                            AutoReg Model Results                             \n",
       "==============================================================================\n",
       "Dep. Variable:                      y   No. Observations:                   54\n",
       "Model:                     AutoReg(5)   Log Likelihood                -549.009\n",
       "Method:               Conditional MLE   S.D. of innovations          17770.980\n",
       "Date:                Fri, 24 Dec 2021   AIC                           1112.018\n",
       "Time:                        18:15:48   BIC                           1125.260\n",
       "Sample:                             5   HQIC                          1117.042\n",
       "                                   54                                         \n",
       "==============================================================================\n",
       "                 coef    std err          z      P>|z|      [0.025      0.975]\n",
       "------------------------------------------------------------------------------\n",
       "const        1.32e+05   3.36e+04      3.933      0.000    6.62e+04    1.98e+05\n",
       "y.L1           4.1027      0.122     33.530      0.000       3.863       4.343\n",
       "y.L2          -6.9431      0.455    -15.270      0.000      -7.834      -6.052\n",
       "y.L3           6.0615      0.672      9.020      0.000       4.744       7.379\n",
       "y.L4          -2.7022      0.470     -5.746      0.000      -3.624      -1.780\n",
       "y.L5           0.4809      0.131      3.677      0.000       0.225       0.737\n",
       "                                    Roots                                    \n",
       "=============================================================================\n",
       "                  Real          Imaginary           Modulus         Frequency\n",
       "-----------------------------------------------------------------------------\n",
       "AR.1            0.8685           -0.6003j            1.0558           -0.0962\n",
       "AR.2            0.8685           +0.6003j            1.0558            0.0962\n",
       "AR.3            0.9896           -0.0328j            0.9901           -0.0053\n",
       "AR.4            0.9896           +0.0328j            0.9901            0.0053\n",
       "AR.5            1.9029           -0.0000j            1.9029           -0.0000\n",
       "-----------------------------------------------------------------------------\n",
       "\"\"\""
      ]
     },
     "execution_count": 413,
     "metadata": {},
     "output_type": "execute_result"
    }
   ],
   "source": [
    "model.summary()"
   ]
  },
  {
   "cell_type": "code",
   "execution_count": 414,
   "id": "6beeeca0",
   "metadata": {},
   "outputs": [
    {
     "data": {
      "text/plain": [
       "[<matplotlib.lines.Line2D at 0xffff48648340>]"
      ]
     },
     "execution_count": 414,
     "metadata": {},
     "output_type": "execute_result"
    },
    {
     "data": {
      "image/png": "[encoded data removed]",
      "text/plain": [
       "<Figure size 432x288 with 1 Axes>"
      ]
     },
     "metadata": {
      "needs_background": "light"
     },
     "output_type": "display_data"
    }
   ],
   "source": [
    "pyplot.plot(pred)\n",
    "pyplot.plot(test, color='red')"
   ]
  },
  {
   "cell_type": "code",
   "execution_count": 415,
   "id": "6db4f522",
   "metadata": {},
   "outputs": [
    {
     "name": "stdout",
     "output_type": "stream",
     "text": [
      "Test RMSE: 1940690.879\n"
     ]
    }
   ],
   "source": [
    "rm_ar = sqrt(mean_squared_error(test, pred))\n",
    "print('Test RMSE: %.3f' % rm_ar)"
   ]
  },
  {
   "cell_type": "code",
   "execution_count": 416,
   "id": "99150dad",
   "metadata": {},
   "outputs": [
    {
     "name": "stdout",
     "output_type": "stream",
     "text": [
      "R2 score 0.995\n"
     ]
    }
   ],
   "source": [
    "#calculating goodness of fit\n",
    "ar_r2 = r2_score(test, pred)\n",
    "print('R2 score %.3f'%ar_r2)"
   ]
  },
  {
   "cell_type": "markdown",
   "id": "919de0a5",
   "metadata": {},
   "source": [
    "Auto regressive model with lag=5 has a better goodness of fit than linear regression, but a higher RMSE, hence the linear regression model is still better than the Auto Regressive one in terms of absolute prediction. "
   ]
  },
  {
   "cell_type": "code",
   "execution_count": null,
   "id": "dd349dc4",
   "metadata": {},
   "outputs": [],
   "source": []
  }
 ],
 "metadata": {
  "kernelspec": {
   "display_name": "Python 3 (ipykernel)",
   "language": "python",
   "name": "python3"
  },
  "language_info": {
   "codemirror_mode": {
    "name": "ipython",
    "version": 3
   },
   "file_extension": ".py",
   "mimetype": "text/x-python",
   "name": "python",
   "nbconvert_exporter": "python",
   "pygments_lexer": "ipython3",
   "version": "3.9.7"
  }
 },
 "nbformat": 4,
 "nbformat_minor": 5
}
